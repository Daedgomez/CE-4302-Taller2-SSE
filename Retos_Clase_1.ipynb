{
  "nbformat": 4,
  "nbformat_minor": 0,
  "metadata": {
    "colab": {
      "provenance": [],
      "include_colab_link": true
    },
    "kernelspec": {
      "name": "python3",
      "display_name": "Python 3"
    },
    "language_info": {
      "name": "python"
    }
  },
  "cells": [
    {
      "cell_type": "markdown",
      "metadata": {
        "id": "view-in-github",
        "colab_type": "text"
      },
      "source": [
        "<a href=\"https://colab.research.google.com/github/Daedgomez/CE-4302-Taller2-SSE/blob/master/Retos_Clase_1.ipynb\" target=\"_parent\"><img src=\"https://colab.research.google.com/assets/colab-badge.svg\" alt=\"Open In Colab\"/></a>"
      ]
    },
    {
      "cell_type": "markdown",
      "source": [],
      "metadata": {
        "id": "RJTWJEUrToPM"
      }
    },
    {
      "cell_type": "markdown",
      "source": [
        "\n",
        "# Retos de Clase\n",
        "\n",
        "1. **Algoritmo de Euclides**: Implementar el algoritmo de Euclides para encontrar el máximo común divisor de dos números y medir su rendimiento.\n",
        "\n",
        "2. **Factorial de un número**: Implementar el cálculo del factorial de un número de forma iterativa y recursiva, y comparar el rendimiento de ambos métodos.\n",
        "\n",
        "3. **Algoritmo de FizzBuzz**: Este es un algoritmo simple pero famoso utilizado en entrevistas de programación. Se debe escribir un programa que imprima los números del 1 al 100, pero para múltiplos de tres imprima \"Fizz\" en lugar del número, para los múltiplos de cinco imprima \"Buzz\" y para números que son múltiplos de ambos, imprima \"FizzBuzz\".\n",
        "\n",
        "7. **Calculadora de promedio**: Escribir un algoritmo que tome una lista de números y calcule su promedio.\n",
        "\n",
        "8. **Verificación de palíndromos**: Escribir un algoritmo que verifique si una cadena dada es un palíndromo.\n",
        "\n",
        "9. **Cálculo de Fibonacci**: Implementar el cálculo de la secuencia de Fibonacci de forma iterativa y recursiva, y comparar el rendimiento de ambos métodos.\n",
        "\n",
        "10. **Algoritmo de la Criba de Eratóstenes**: Implementar el algoritmo de la criba de Eratóstenes para encontrar todos los números primos hasta un número dado y medir su rendimiento.\n",
        "\n",
        "11. **Conversión de bases numéricas**: Implementar un algoritmo que convierta números de una base a otra (por ejemplo, de binario a decimal).\n",
        "\n",
        "Para medir el tiempo se puede utilizar el siguiente decorador (visto en clase)"
      ],
      "metadata": {
        "id": "leByeNqjTKn5"
      }
    },
    {
      "cell_type": "code",
      "execution_count": null,
      "metadata": {
        "id": "r8G-CJ6VTJwJ"
      },
      "outputs": [],
      "source": [
        "import time\n",
        "\n",
        "def medir_tiempo(func):\n",
        "    def envoltura(*args):\n",
        "        inicio = time.time() #marca inicio\n",
        "        resultado = func(*args) #Ejecuta función\n",
        "        fin = time.time() # marca final\n",
        "        tiempo_ejecucion = fin - inicio\n",
        "        return tiempo_ejecucion  # Devolvemos el tiempo de ejecución en lugar de imprimirlo\n",
        "    return envoltura"
      ]
    }
  ]
}